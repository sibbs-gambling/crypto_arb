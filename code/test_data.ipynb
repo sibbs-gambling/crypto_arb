{
 "cells": [
  {
   "cell_type": "code",
   "execution_count": 137,
   "metadata": {},
   "outputs": [],
   "source": [
    "\"\"\"\n",
    "Converts LOB data (prices, quotes) to images e.g. matrices indexed\n",
    "by price and time with \"pixel\" values of quantities. The quantities\n",
    "are normalized to be [0, 255] on the RGB spectrum.\n",
    "\"\"\"\n",
    "\n",
    "__author__ = \"Justin Skillman\"\n",
    "__email__ = \"jskillma@cmu.edu\"\n",
    "\n",
    "import numpy as np\n",
    "import pandas as pd\n",
    "import sys\n",
    "import os\n",
    "import matplotlib.pyplot as plt\n",
    "import tqdm\n",
    "\n",
    "# Read  in Data\n",
    "data_dir = './cnn_lob/data/'\n",
    "filename = 'test_lob.csv'\n",
    "\n",
    "lob = pd.read_csv(data_dir + filename)\n",
    "\n",
    "# Compute Labels (returns over next nSecs seconds)\n",
    "nSecs = 5\n",
    "lob['return_sign'] = np.sign(lob.mid_top.pct_change(periods=nSecs))\n",
    "# TODO: Use traded prices instead of mid"
   ]
  },
  {
   "cell_type": "code",
   "execution_count": 146,
   "metadata": {},
   "outputs": [],
   "source": [
    "test = lob.tail(20)\n",
    "df = test"
   ]
  },
  {
   "cell_type": "code",
   "execution_count": 228,
   "metadata": {},
   "outputs": [],
   "source": [
    "# Create Images\n",
    "def lob_snap_to_img(df, numtime_colname='timestamp'):\n",
    "    \n",
    "    uniq_prices = list(np.unique(df.filter(regex='_p').values.flatten()))\n",
    "    uniq_times = df.timestamp.unique().tolist()\n",
    "    R_img_df = pd.DataFrame(columns=uniq_times, index=uniq_prices) # ask sizes\n",
    "    G_img_df = pd.DataFrame(columns=uniq_times, index=uniq_prices)  # bid sizes\n",
    "    B_img_df = pd.DataFrame(columns=uniq_times, index=uniq_prices)  # num orders \n",
    "    \n",
    "    for timestamp_j in uniq_times:\n",
    "        ask_prices = df[df.timestamp == timestamp_j].filter(regex='ask_p').values.tolist()[0]\n",
    "        bid_prices = df[df.timestamp == timestamp_j].filter(regex='bid_p').values.tolist()[0]\n",
    "        ask_sizes = df[df.timestamp == timestamp_j].filter(regex='ask_q').values\n",
    "        bid_sizes = df[df.timestamp == timestamp_j].filter(regex='bid_q').values\n",
    "        \n",
    "        R_img_df.loc[ask_prices, timestamp_j] = ask_sizes\n",
    "        G_img_df.loc[bid_prices, timestamp_j] = bid_sizes\n",
    "        B_img_df.loc[:, timestamp_j] = 1\n",
    "        \n",
    "    R = normalize_0_255(R_img_df.fillna(0).values)\n",
    "    G = normalize_0_255(G_img_df.fillna(0).values)\n",
    "    B = normalize_0_255(B_img_df.fillna(0).values)\n",
    "    \n",
    "    return R, G, B \n",
    "\n",
    "\n",
    "def normalize_0_255(arr):\n",
    "    return ((arr - arr.min()) * (1/(arr.max() - arr.min()) * 255)).astype('uint8')"
   ]
  },
  {
   "cell_type": "code",
   "execution_count": 229,
   "metadata": {},
   "outputs": [
    {
     "name": "stderr",
     "output_type": "stream",
     "text": [
      "/home/justin/Misc/miniconda3/lib/python3.5/site-packages/ipykernel_launcher.py:28: RuntimeWarning: divide by zero encountered in long_scalars\n",
      "/home/justin/Misc/miniconda3/lib/python3.5/site-packages/ipykernel_launcher.py:28: RuntimeWarning: invalid value encountered in multiply\n"
     ]
    }
   ],
   "source": [
    "R, G, B = lob_snap_to_img(df)"
   ]
  },
  {
   "cell_type": "code",
   "execution_count": 234,
   "metadata": {},
   "outputs": [
    {
     "data": {
      "text/plain": [
       "(31, 20)"
      ]
     },
     "execution_count": 234,
     "metadata": {},
     "output_type": "execute_result"
    }
   ],
   "source": [
    "R.shape"
   ]
  },
  {
   "cell_type": "code",
   "execution_count": 241,
   "metadata": {},
   "outputs": [
    {
     "data": {
      "image/png": "[encoded data removed]",
      "text/plain": [
       "<Figure size 504x504 with 1 Axes>"
      ]
     },
     "metadata": {},
     "output_type": "display_data"
    }
   ],
   "source": [
    "plt.figure(figsize=(7,7))\n",
    "plt.imshow(np.swapaxes(np.array([R.T, G.T, B.T]), 0, 2), \n",
    "           interpolation='nearest', aspect='auto')\n",
    "plt.show();"
   ]
  },
  {
   "cell_type": "code",
   "execution_count": null,
   "metadata": {},
   "outputs": [],
   "source": []
  }
 ],
 "metadata": {
  "kernelspec": {
   "display_name": "Python 3",
   "language": "python",
   "name": "python3"
  },
  "language_info": {
   "codemirror_mode": {
    "name": "ipython",
    "version": 3
   },
   "file_extension": ".py",
   "mimetype": "text/x-python",
   "name": "python",
   "nbconvert_exporter": "python",
   "pygments_lexer": "ipython3",
   "version": "3.5.4"
  }
 },
 "nbformat": 4,
 "nbformat_minor": 2
}
